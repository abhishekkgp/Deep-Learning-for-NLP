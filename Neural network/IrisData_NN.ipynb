{
 "cells": [
  {
   "cell_type": "markdown",
   "metadata": {},
   "source": [
    "## Applying simple Neural Network model on Iris Data"
   ]
  },
  {
   "cell_type": "code",
   "execution_count": 1,
   "metadata": {},
   "outputs": [],
   "source": [
    "import numpy as np"
   ]
  },
  {
   "cell_type": "code",
   "execution_count": 2,
   "metadata": {},
   "outputs": [],
   "source": [
    "from sklearn.datasets import load_iris"
   ]
  },
  {
   "cell_type": "code",
   "execution_count": 3,
   "metadata": {},
   "outputs": [],
   "source": [
    "iris= load_iris()"
   ]
  },
  {
   "cell_type": "code",
   "execution_count": 4,
   "metadata": {},
   "outputs": [
    {
     "data": {
      "text/plain": [
       "sklearn.utils.Bunch"
      ]
     },
     "execution_count": 4,
     "metadata": {},
     "output_type": "execute_result"
    }
   ],
   "source": [
    "type(iris)"
   ]
  },
  {
   "cell_type": "code",
   "execution_count": 5,
   "metadata": {},
   "outputs": [
    {
     "name": "stdout",
     "output_type": "stream",
     "text": [
      ".. _iris_dataset:\n",
      "\n",
      "Iris plants dataset\n",
      "--------------------\n",
      "\n",
      "**Data Set Characteristics:**\n",
      "\n",
      "    :Number of Instances: 150 (50 in each of three classes)\n",
      "    :Number of Attributes: 4 numeric, predictive attributes and the class\n",
      "    :Attribute Information:\n",
      "        - sepal length in cm\n",
      "        - sepal width in cm\n",
      "        - petal length in cm\n",
      "        - petal width in cm\n",
      "        - class:\n",
      "                - Iris-Setosa\n",
      "                - Iris-Versicolour\n",
      "                - Iris-Virginica\n",
      "                \n",
      "    :Summary Statistics:\n",
      "\n",
      "    ============== ==== ==== ======= ===== ====================\n",
      "                    Min  Max   Mean    SD   Class Correlation\n",
      "    ============== ==== ==== ======= ===== ====================\n",
      "    sepal length:   4.3  7.9   5.84   0.83    0.7826\n",
      "    sepal width:    2.0  4.4   3.05   0.43   -0.4194\n",
      "    petal length:   1.0  6.9   3.76   1.76    0.9490  (high!)\n",
      "    petal width:    0.1  2.5   1.20   0.76    0.9565  (high!)\n",
      "    ============== ==== ==== ======= ===== ====================\n",
      "\n",
      "    :Missing Attribute Values: None\n",
      "    :Class Distribution: 33.3% for each of 3 classes.\n",
      "    :Creator: R.A. Fisher\n",
      "    :Donor: Michael Marshall (MARSHALL%PLU@io.arc.nasa.gov)\n",
      "    :Date: July, 1988\n",
      "\n",
      "The famous Iris database, first used by Sir R.A. Fisher. The dataset is taken\n",
      "from Fisher's paper. Note that it's the same as in R, but not as in the UCI\n",
      "Machine Learning Repository, which has two wrong data points.\n",
      "\n",
      "This is perhaps the best known database to be found in the\n",
      "pattern recognition literature.  Fisher's paper is a classic in the field and\n",
      "is referenced frequently to this day.  (See Duda & Hart, for example.)  The\n",
      "data set contains 3 classes of 50 instances each, where each class refers to a\n",
      "type of iris plant.  One class is linearly separable from the other 2; the\n",
      "latter are NOT linearly separable from each other.\n",
      "\n",
      ".. topic:: References\n",
      "\n",
      "   - Fisher, R.A. \"The use of multiple measurements in taxonomic problems\"\n",
      "     Annual Eugenics, 7, Part II, 179-188 (1936); also in \"Contributions to\n",
      "     Mathematical Statistics\" (John Wiley, NY, 1950).\n",
      "   - Duda, R.O., & Hart, P.E. (1973) Pattern Classification and Scene Analysis.\n",
      "     (Q327.D83) John Wiley & Sons.  ISBN 0-471-22361-1.  See page 218.\n",
      "   - Dasarathy, B.V. (1980) \"Nosing Around the Neighborhood: A New System\n",
      "     Structure and Classification Rule for Recognition in Partially Exposed\n",
      "     Environments\".  IEEE Transactions on Pattern Analysis and Machine\n",
      "     Intelligence, Vol. PAMI-2, No. 1, 67-71.\n",
      "   - Gates, G.W. (1972) \"The Reduced Nearest Neighbor Rule\".  IEEE Transactions\n",
      "     on Information Theory, May 1972, 431-433.\n",
      "   - See also: 1988 MLC Proceedings, 54-64.  Cheeseman et al\"s AUTOCLASS II\n",
      "     conceptual clustering system finds 3 classes in the data.\n",
      "   - Many, many more ...\n"
     ]
    }
   ],
   "source": [
    "print(iris.DESCR)"
   ]
  },
  {
   "cell_type": "code",
   "execution_count": 6,
   "metadata": {},
   "outputs": [],
   "source": [
    "X=iris.data\n",
    "#X"
   ]
  },
  {
   "cell_type": "code",
   "execution_count": 7,
   "metadata": {},
   "outputs": [],
   "source": [
    "y=iris.target"
   ]
  },
  {
   "cell_type": "code",
   "execution_count": 8,
   "metadata": {},
   "outputs": [
    {
     "name": "stderr",
     "output_type": "stream",
     "text": [
      "Using TensorFlow backend.\n"
     ]
    }
   ],
   "source": [
    "#class 0 ---> [1,0,0]\n",
    "#class 1 ---> [0,1,0]\n",
    "#class 2 ---> [0,0,1]\n",
    "# to do this we are using Keras\n",
    "from keras.utils import to_categorical\n"
   ]
  },
  {
   "cell_type": "code",
   "execution_count": 9,
   "metadata": {},
   "outputs": [],
   "source": [
    "y=to_categorical(y)"
   ]
  },
  {
   "cell_type": "code",
   "execution_count": 10,
   "metadata": {},
   "outputs": [
    {
     "name": "stdout",
     "output_type": "stream",
     "text": [
      "(150, 3)\n"
     ]
    }
   ],
   "source": [
    "print(y.shape)"
   ]
  },
  {
   "cell_type": "code",
   "execution_count": 11,
   "metadata": {},
   "outputs": [],
   "source": [
    "from sklearn.model_selection import train_test_split"
   ]
  },
  {
   "cell_type": "code",
   "execution_count": 12,
   "metadata": {},
   "outputs": [],
   "source": [
    "X_train, X_test, y_train, y_test= train_test_split(X,y,test_size=0.33, random_state=42)"
   ]
  },
  {
   "cell_type": "code",
   "execution_count": 13,
   "metadata": {},
   "outputs": [],
   "source": [
    "from sklearn.preprocessing import MinMaxScaler # to scale value between 0 and 1"
   ]
  },
  {
   "cell_type": "code",
   "execution_count": 14,
   "metadata": {},
   "outputs": [],
   "source": [
    "scaler_object=MinMaxScaler()"
   ]
  },
  {
   "cell_type": "code",
   "execution_count": 15,
   "metadata": {},
   "outputs": [
    {
     "data": {
      "text/plain": [
       "MinMaxScaler(copy=True, feature_range=(0, 1))"
      ]
     },
     "execution_count": 15,
     "metadata": {},
     "output_type": "execute_result"
    }
   ],
   "source": [
    "scaler_object.fit(X_train)"
   ]
  },
  {
   "cell_type": "code",
   "execution_count": 16,
   "metadata": {},
   "outputs": [],
   "source": [
    "scaled_X_train=scaler_object.transform(X_train)"
   ]
  },
  {
   "cell_type": "code",
   "execution_count": 17,
   "metadata": {},
   "outputs": [],
   "source": [
    "scaled_X_test=scaler_object.transform(X_test)"
   ]
  },
  {
   "cell_type": "code",
   "execution_count": 18,
   "metadata": {},
   "outputs": [],
   "source": [
    " #scaled_X_train"
   ]
  },
  {
   "cell_type": "code",
   "execution_count": 19,
   "metadata": {},
   "outputs": [],
   "source": [
    "# Building the network using keras \n",
    "from keras.models import Sequential # to get sequesces\n",
    "from keras.layers import Dense # to make dense model i.e., no. of hidden layer greater than 2(simply saying)"
   ]
  },
  {
   "cell_type": "code",
   "execution_count": 20,
   "metadata": {},
   "outputs": [],
   "source": [
    "model= Sequential() #to creat Sequestial model\n",
    "# to add layer to model (in this case Dense layer)\n",
    "model.add(Dense(8,input_dim=4,activation='relu')) # taking '8 neuron' and input dimention 4=no. of features\n",
    "model.add(Dense(8,input_dim=4,activation='relu')) # adding one more same layer as above\n",
    "model.add(Dense(3,activation='softmax')) # taking '3 neuron' same as in outpur layer and using softmax here\n",
    "#output should be close to [.2,.3,.5] A per value of y\n",
    "\n",
    "# Now compiling it\n",
    "model.compile(loss='categorical_crossentropy', optimizer='adam',metrics=['accuracy'])"
   ]
  },
  {
   "cell_type": "code",
   "execution_count": 21,
   "metadata": {},
   "outputs": [
    {
     "name": "stdout",
     "output_type": "stream",
     "text": [
      "Model: \"sequential_1\"\n",
      "_________________________________________________________________\n",
      "Layer (type)                 Output Shape              Param #   \n",
      "=================================================================\n",
      "dense_1 (Dense)              (None, 8)                 40        \n",
      "_________________________________________________________________\n",
      "dense_2 (Dense)              (None, 8)                 72        \n",
      "_________________________________________________________________\n",
      "dense_3 (Dense)              (None, 3)                 27        \n",
      "=================================================================\n",
      "Total params: 139\n",
      "Trainable params: 139\n",
      "Non-trainable params: 0\n",
      "_________________________________________________________________\n",
      "None\n"
     ]
    }
   ],
   "source": [
    "# to get summary of model\n",
    "print(model.summary())"
   ]
  },
  {
   "cell_type": "code",
   "execution_count": 22,
   "metadata": {},
   "outputs": [
    {
     "name": "stdout",
     "output_type": "stream",
     "text": [
      "Epoch 1/150\n",
      " - 0s - loss: 1.0663 - accuracy: 0.4300\n",
      "Epoch 2/150\n",
      " - 0s - loss: 1.0627 - accuracy: 0.4700\n",
      "Epoch 3/150\n",
      " - 0s - loss: 1.0605 - accuracy: 0.5400\n",
      "Epoch 4/150\n",
      " - 0s - loss: 1.0580 - accuracy: 0.5500\n",
      "Epoch 5/150\n",
      " - 0s - loss: 1.0551 - accuracy: 0.5900\n",
      "Epoch 6/150\n",
      " - 0s - loss: 1.0524 - accuracy: 0.6000\n",
      "Epoch 7/150\n",
      " - 0s - loss: 1.0492 - accuracy: 0.6200\n",
      "Epoch 8/150\n",
      " - 0s - loss: 1.0459 - accuracy: 0.6200\n",
      "Epoch 9/150\n",
      " - 0s - loss: 1.0424 - accuracy: 0.6300\n",
      "Epoch 10/150\n",
      " - 0s - loss: 1.0385 - accuracy: 0.6400\n",
      "Epoch 11/150\n",
      " - 0s - loss: 1.0344 - accuracy: 0.6400\n",
      "Epoch 12/150\n",
      " - 0s - loss: 1.0298 - accuracy: 0.6400\n",
      "Epoch 13/150\n",
      " - 0s - loss: 1.0250 - accuracy: 0.6400\n",
      "Epoch 14/150\n",
      " - 0s - loss: 1.0194 - accuracy: 0.6500\n",
      "Epoch 15/150\n",
      " - 0s - loss: 1.0138 - accuracy: 0.6500\n",
      "Epoch 16/150\n",
      " - 0s - loss: 1.0075 - accuracy: 0.6500\n",
      "Epoch 17/150\n",
      " - 0s - loss: 1.0012 - accuracy: 0.6500\n",
      "Epoch 18/150\n",
      " - 0s - loss: 0.9943 - accuracy: 0.6500\n",
      "Epoch 19/150\n",
      " - 0s - loss: 0.9873 - accuracy: 0.6500\n",
      "Epoch 20/150\n",
      " - 0s - loss: 0.9802 - accuracy: 0.6500\n",
      "Epoch 21/150\n",
      " - 0s - loss: 0.9728 - accuracy: 0.6500\n",
      "Epoch 22/150\n",
      " - 0s - loss: 0.9655 - accuracy: 0.6500\n",
      "Epoch 23/150\n",
      " - 0s - loss: 0.9578 - accuracy: 0.6500\n",
      "Epoch 24/150\n",
      " - 0s - loss: 0.9505 - accuracy: 0.6500\n",
      "Epoch 25/150\n",
      " - 0s - loss: 0.9432 - accuracy: 0.6600\n",
      "Epoch 26/150\n",
      " - 0s - loss: 0.9357 - accuracy: 0.6700\n",
      "Epoch 27/150\n",
      " - 0s - loss: 0.9278 - accuracy: 0.6900\n",
      "Epoch 28/150\n",
      " - 0s - loss: 0.9197 - accuracy: 0.6900\n",
      "Epoch 29/150\n",
      " - 0s - loss: 0.9118 - accuracy: 0.6900\n",
      "Epoch 30/150\n",
      " - 0s - loss: 0.9034 - accuracy: 0.6900\n",
      "Epoch 31/150\n",
      " - 0s - loss: 0.8951 - accuracy: 0.6700\n",
      "Epoch 32/150\n",
      " - 0s - loss: 0.8863 - accuracy: 0.6700\n",
      "Epoch 33/150\n",
      " - 0s - loss: 0.8773 - accuracy: 0.6700\n",
      "Epoch 34/150\n",
      " - 0s - loss: 0.8686 - accuracy: 0.6700\n",
      "Epoch 35/150\n",
      " - 0s - loss: 0.8598 - accuracy: 0.6800\n",
      "Epoch 36/150\n",
      " - 0s - loss: 0.8511 - accuracy: 0.7300\n",
      "Epoch 37/150\n",
      " - 0s - loss: 0.8424 - accuracy: 0.7800\n",
      "Epoch 38/150\n",
      " - 0s - loss: 0.8335 - accuracy: 0.7900\n",
      "Epoch 39/150\n",
      " - 0s - loss: 0.8244 - accuracy: 0.7800\n",
      "Epoch 40/150\n",
      " - 0s - loss: 0.8150 - accuracy: 0.7600\n",
      "Epoch 41/150\n",
      " - 0s - loss: 0.8061 - accuracy: 0.7000\n",
      "Epoch 42/150\n",
      " - 0s - loss: 0.7969 - accuracy: 0.6800\n",
      "Epoch 43/150\n",
      " - 0s - loss: 0.7878 - accuracy: 0.6800\n",
      "Epoch 44/150\n",
      " - 0s - loss: 0.7790 - accuracy: 0.6800\n",
      "Epoch 45/150\n",
      " - 0s - loss: 0.7701 - accuracy: 0.6800\n",
      "Epoch 46/150\n",
      " - 0s - loss: 0.7616 - accuracy: 0.6800\n",
      "Epoch 47/150\n",
      " - 0s - loss: 0.7533 - accuracy: 0.6800\n",
      "Epoch 48/150\n",
      " - 0s - loss: 0.7451 - accuracy: 0.6900\n",
      "Epoch 49/150\n",
      " - 0s - loss: 0.7370 - accuracy: 0.6900\n",
      "Epoch 50/150\n",
      " - 0s - loss: 0.7286 - accuracy: 0.6900\n",
      "Epoch 51/150\n",
      " - 0s - loss: 0.7206 - accuracy: 0.6900\n",
      "Epoch 52/150\n",
      " - 0s - loss: 0.7124 - accuracy: 0.6900\n",
      "Epoch 53/150\n",
      " - 0s - loss: 0.7048 - accuracy: 0.6800\n",
      "Epoch 54/150\n",
      " - 0s - loss: 0.6968 - accuracy: 0.6800\n",
      "Epoch 55/150\n",
      " - 0s - loss: 0.6896 - accuracy: 0.6800\n",
      "Epoch 56/150\n",
      " - 0s - loss: 0.6825 - accuracy: 0.6800\n",
      "Epoch 57/150\n",
      " - 0s - loss: 0.6751 - accuracy: 0.6800\n",
      "Epoch 58/150\n",
      " - 0s - loss: 0.6682 - accuracy: 0.6800\n",
      "Epoch 59/150\n",
      " - 0s - loss: 0.6617 - accuracy: 0.6800\n",
      "Epoch 60/150\n",
      " - 0s - loss: 0.6550 - accuracy: 0.6800\n",
      "Epoch 61/150\n",
      " - 0s - loss: 0.6486 - accuracy: 0.6900\n",
      "Epoch 62/150\n",
      " - 0s - loss: 0.6419 - accuracy: 0.7000\n",
      "Epoch 63/150\n",
      " - 0s - loss: 0.6357 - accuracy: 0.7000\n",
      "Epoch 64/150\n",
      " - 0s - loss: 0.6294 - accuracy: 0.7000\n",
      "Epoch 65/150\n",
      " - 0s - loss: 0.6231 - accuracy: 0.7000\n",
      "Epoch 66/150\n",
      " - 0s - loss: 0.6175 - accuracy: 0.7000\n",
      "Epoch 67/150\n",
      " - 0s - loss: 0.6115 - accuracy: 0.7000\n",
      "Epoch 68/150\n",
      " - 0s - loss: 0.6060 - accuracy: 0.7000\n",
      "Epoch 69/150\n",
      " - 0s - loss: 0.6008 - accuracy: 0.7000\n",
      "Epoch 70/150\n",
      " - 0s - loss: 0.5956 - accuracy: 0.7000\n",
      "Epoch 71/150\n",
      " - 0s - loss: 0.5910 - accuracy: 0.7300\n",
      "Epoch 72/150\n",
      " - 0s - loss: 0.5860 - accuracy: 0.7300\n",
      "Epoch 73/150\n",
      " - 0s - loss: 0.5815 - accuracy: 0.7400\n",
      "Epoch 74/150\n",
      " - 0s - loss: 0.5772 - accuracy: 0.7200\n",
      "Epoch 75/150\n",
      " - 0s - loss: 0.5728 - accuracy: 0.7000\n",
      "Epoch 76/150\n",
      " - 0s - loss: 0.5685 - accuracy: 0.7000\n",
      "Epoch 77/150\n",
      " - 0s - loss: 0.5641 - accuracy: 0.7000\n",
      "Epoch 78/150\n",
      " - 0s - loss: 0.5600 - accuracy: 0.6900\n",
      "Epoch 79/150\n",
      " - 0s - loss: 0.5561 - accuracy: 0.6900\n",
      "Epoch 80/150\n",
      " - 0s - loss: 0.5520 - accuracy: 0.7000\n",
      "Epoch 81/150\n",
      " - 0s - loss: 0.5483 - accuracy: 0.7100\n",
      "Epoch 82/150\n",
      " - 0s - loss: 0.5446 - accuracy: 0.7700\n",
      "Epoch 83/150\n",
      " - 0s - loss: 0.5412 - accuracy: 0.8100\n",
      "Epoch 84/150\n",
      " - 0s - loss: 0.5377 - accuracy: 0.8000\n",
      "Epoch 85/150\n",
      " - 0s - loss: 0.5346 - accuracy: 0.8000\n",
      "Epoch 86/150\n",
      " - 0s - loss: 0.5313 - accuracy: 0.8200\n",
      "Epoch 87/150\n",
      " - 0s - loss: 0.5282 - accuracy: 0.8200\n",
      "Epoch 88/150\n",
      " - 0s - loss: 0.5249 - accuracy: 0.8200\n",
      "Epoch 89/150\n",
      " - 0s - loss: 0.5220 - accuracy: 0.8100\n",
      "Epoch 90/150\n",
      " - 0s - loss: 0.5189 - accuracy: 0.8200\n",
      "Epoch 91/150\n",
      " - 0s - loss: 0.5160 - accuracy: 0.8100\n",
      "Epoch 92/150\n",
      " - 0s - loss: 0.5132 - accuracy: 0.8000\n",
      "Epoch 93/150\n",
      " - 0s - loss: 0.5105 - accuracy: 0.8000\n",
      "Epoch 94/150\n",
      " - 0s - loss: 0.5077 - accuracy: 0.8000\n",
      "Epoch 95/150\n",
      " - 0s - loss: 0.5052 - accuracy: 0.8100\n",
      "Epoch 96/150\n",
      " - 0s - loss: 0.5035 - accuracy: 0.7600\n",
      "Epoch 97/150\n",
      " - 0s - loss: 0.5004 - accuracy: 0.7700\n",
      "Epoch 98/150\n",
      " - 0s - loss: 0.4977 - accuracy: 0.8000\n",
      "Epoch 99/150\n",
      " - 0s - loss: 0.4951 - accuracy: 0.8200\n",
      "Epoch 100/150\n",
      " - 0s - loss: 0.4932 - accuracy: 0.8300\n",
      "Epoch 101/150\n",
      " - 0s - loss: 0.4909 - accuracy: 0.8500\n",
      "Epoch 102/150\n",
      " - 0s - loss: 0.4885 - accuracy: 0.8600\n",
      "Epoch 103/150\n",
      " - 0s - loss: 0.4863 - accuracy: 0.8700\n",
      "Epoch 104/150\n",
      " - 0s - loss: 0.4845 - accuracy: 0.8800\n",
      "Epoch 105/150\n",
      " - 0s - loss: 0.4829 - accuracy: 0.8900\n",
      "Epoch 106/150\n",
      " - 0s - loss: 0.4808 - accuracy: 0.9000\n",
      "Epoch 107/150\n",
      " - 0s - loss: 0.4787 - accuracy: 0.9000\n",
      "Epoch 108/150\n",
      " - 0s - loss: 0.4762 - accuracy: 0.8900\n",
      "Epoch 109/150\n",
      " - 0s - loss: 0.4741 - accuracy: 0.8800\n",
      "Epoch 110/150\n",
      " - 0s - loss: 0.4723 - accuracy: 0.8800\n",
      "Epoch 111/150\n",
      " - 0s - loss: 0.4701 - accuracy: 0.8900\n",
      "Epoch 112/150\n",
      " - 0s - loss: 0.4682 - accuracy: 0.8800\n",
      "Epoch 113/150\n",
      " - 0s - loss: 0.4664 - accuracy: 0.8900\n",
      "Epoch 114/150\n",
      " - 0s - loss: 0.4645 - accuracy: 0.8900\n",
      "Epoch 115/150\n",
      " - 0s - loss: 0.4627 - accuracy: 0.8900\n",
      "Epoch 116/150\n",
      " - 0s - loss: 0.4609 - accuracy: 0.8900\n",
      "Epoch 117/150\n",
      " - 0s - loss: 0.4593 - accuracy: 0.8900\n",
      "Epoch 118/150\n",
      " - 0s - loss: 0.4576 - accuracy: 0.9000\n",
      "Epoch 119/150\n",
      " - 0s - loss: 0.4559 - accuracy: 0.9000\n",
      "Epoch 120/150\n",
      " - 0s - loss: 0.4538 - accuracy: 0.8900\n",
      "Epoch 121/150\n",
      " - 0s - loss: 0.4520 - accuracy: 0.8900\n",
      "Epoch 122/150\n",
      " - 0s - loss: 0.4501 - accuracy: 0.8700\n",
      "Epoch 123/150\n",
      " - 0s - loss: 0.4489 - accuracy: 0.8500\n",
      "Epoch 124/150\n",
      " - 0s - loss: 0.4470 - accuracy: 0.8400\n",
      "Epoch 125/150\n",
      " - 0s - loss: 0.4453 - accuracy: 0.8700\n",
      "Epoch 126/150\n",
      " - 0s - loss: 0.4437 - accuracy: 0.8900\n",
      "Epoch 127/150\n",
      " - 0s - loss: 0.4422 - accuracy: 0.9000\n",
      "Epoch 128/150\n",
      " - 0s - loss: 0.4405 - accuracy: 0.9000\n",
      "Epoch 129/150\n",
      " - 0s - loss: 0.4386 - accuracy: 0.9000\n",
      "Epoch 130/150\n",
      " - 0s - loss: 0.4370 - accuracy: 0.8900\n",
      "Epoch 131/150\n",
      " - 0s - loss: 0.4351 - accuracy: 0.8900\n",
      "Epoch 132/150\n",
      " - 0s - loss: 0.4335 - accuracy: 0.9000\n",
      "Epoch 133/150\n",
      " - 0s - loss: 0.4319 - accuracy: 0.9000\n",
      "Epoch 134/150\n",
      " - 0s - loss: 0.4303 - accuracy: 0.9000\n",
      "Epoch 135/150\n",
      " - 0s - loss: 0.4289 - accuracy: 0.9000\n",
      "Epoch 136/150\n",
      " - 0s - loss: 0.4272 - accuracy: 0.9000\n",
      "Epoch 137/150\n",
      " - 0s - loss: 0.4256 - accuracy: 0.9000\n",
      "Epoch 138/150\n",
      " - 0s - loss: 0.4239 - accuracy: 0.9000\n",
      "Epoch 139/150\n",
      " - 0s - loss: 0.4223 - accuracy: 0.9000\n",
      "Epoch 140/150\n",
      " - 0s - loss: 0.4206 - accuracy: 0.9000\n",
      "Epoch 141/150\n",
      " - 0s - loss: 0.4188 - accuracy: 0.9000\n",
      "Epoch 142/150\n",
      " - 0s - loss: 0.4172 - accuracy: 0.9000\n",
      "Epoch 143/150\n",
      " - 0s - loss: 0.4165 - accuracy: 0.8700\n",
      "Epoch 144/150\n",
      " - 0s - loss: 0.4154 - accuracy: 0.8700\n",
      "Epoch 145/150\n",
      " - 0s - loss: 0.4151 - accuracy: 0.8300\n",
      "Epoch 146/150\n",
      " - 0s - loss: 0.4134 - accuracy: 0.8300\n",
      "Epoch 147/150\n",
      " - 0s - loss: 0.4114 - accuracy: 0.8400\n",
      "Epoch 148/150\n",
      " - 0s - loss: 0.4094 - accuracy: 0.8600\n",
      "Epoch 149/150\n",
      " - 0s - loss: 0.4071 - accuracy: 0.8700\n",
      "Epoch 150/150\n",
      " - 0s - loss: 0.4052 - accuracy: 0.8900\n"
     ]
    },
    {
     "data": {
      "text/plain": [
       "<keras.callbacks.callbacks.History at 0x24339a91c50>"
      ]
     },
     "execution_count": 22,
     "metadata": {},
     "output_type": "execute_result"
    }
   ],
   "source": [
    "model.fit(scaled_X_train, y_train, epochs=150, verbose =2)\n",
    "# verbose is just how much output infomation we want ex- verbose=0 give no information\n",
    "#while verbose=2 with give information of accuracy"
   ]
  },
  {
   "cell_type": "code",
   "execution_count": 23,
   "metadata": {},
   "outputs": [
    {
     "data": {
      "text/plain": [
       "array([[2.5688091e-02, 5.0645924e-01, 4.6785265e-01],\n",
       "       [9.7962373e-01, 1.5936112e-02, 4.4402503e-03],\n",
       "       [7.7803869e-04, 2.2857371e-01, 7.7064824e-01],\n",
       "       [2.5924420e-02, 4.9254665e-01, 4.8152897e-01],\n",
       "       [8.6990995e-03, 4.0247923e-01, 5.8882165e-01],\n",
       "       [9.4875503e-01, 3.9873812e-02, 1.1371181e-02],\n",
       "       [8.5793003e-02, 5.5285674e-01, 3.6135021e-01],\n",
       "       [3.3417202e-03, 2.9499444e-01, 7.0166385e-01],\n",
       "       [8.1736222e-03, 3.7971035e-01, 6.1211598e-01],\n",
       "       [4.4469990e-02, 5.3973907e-01, 4.1579092e-01],\n",
       "       [9.4000995e-03, 3.9128685e-01, 5.9931296e-01],\n",
       "       [9.5781088e-01, 3.3991877e-02, 8.1972983e-03],\n",
       "       [9.7391123e-01, 2.0467613e-02, 5.6211432e-03],\n",
       "       [9.6280479e-01, 2.9905524e-02, 7.2897612e-03],\n",
       "       [9.8804224e-01, 9.8043904e-03, 2.1532695e-03],\n",
       "       [2.8506955e-02, 4.9053049e-01, 4.8096254e-01],\n",
       "       [3.8371952e-03, 3.1807563e-01, 6.7808723e-01],\n",
       "       [4.6827231e-02, 5.4765433e-01, 4.0551838e-01],\n",
       "       [3.9486773e-02, 5.3602779e-01, 4.2448545e-01],\n",
       "       [3.4885413e-03, 3.0801159e-01, 6.8849981e-01],\n",
       "       [9.7057164e-01, 2.4110939e-02, 5.3174309e-03],\n",
       "       [1.5725590e-02, 4.4232237e-01, 5.4195201e-01],\n",
       "       [9.6732241e-01, 2.6322668e-02, 6.3549229e-03],\n",
       "       [3.9654798e-03, 3.2142389e-01, 6.7461061e-01],\n",
       "       [2.2346782e-03, 2.8857878e-01, 7.0918655e-01],\n",
       "       [3.4917009e-03, 2.9970944e-01, 6.9679886e-01],\n",
       "       [3.2794459e-03, 3.1936893e-01, 6.7735159e-01],\n",
       "       [3.0184032e-03, 2.9709327e-01, 6.9988829e-01],\n",
       "       [9.3986005e-01, 4.8388608e-02, 1.1751342e-02],\n",
       "       [9.5846301e-01, 3.3602275e-02, 7.9347519e-03],\n",
       "       [9.8632568e-01, 1.1394581e-02, 2.2797678e-03],\n",
       "       [9.9473369e-01, 4.2662011e-03, 1.0001517e-03],\n",
       "       [1.8009214e-02, 4.6161634e-01, 5.2037448e-01],\n",
       "       [9.7914493e-01, 1.7180167e-02, 3.6749672e-03],\n",
       "       [9.7389281e-01, 2.1714283e-02, 4.3929066e-03],\n",
       "       [5.0480934e-03, 3.4102935e-01, 6.5392256e-01],\n",
       "       [2.6191631e-02, 4.8772547e-01, 4.8608294e-01],\n",
       "       [9.7903454e-01, 1.6836200e-02, 4.1291853e-03],\n",
       "       [9.8434502e-01, 1.2829397e-02, 2.8255666e-03],\n",
       "       [9.9366671e-01, 5.2667274e-03, 1.0665494e-03],\n",
       "       [1.1612360e-02, 4.1446263e-01, 5.7392496e-01],\n",
       "       [6.5641128e-02, 5.1463467e-01, 4.1972426e-01],\n",
       "       [1.3951838e-02, 4.3921196e-01, 5.4683614e-01],\n",
       "       [9.8813462e-01, 9.5392475e-03, 2.3261069e-03],\n",
       "       [9.8438674e-01, 1.2508419e-02, 3.1048888e-03],\n",
       "       [5.5245686e-02, 5.5983549e-01, 3.8491875e-01],\n",
       "       [1.1939977e-02, 4.3148282e-01, 5.5657721e-01],\n",
       "       [9.6465591e-03, 4.0687111e-01, 5.8348227e-01],\n",
       "       [1.7478725e-02, 4.5899984e-01, 5.2352148e-01],\n",
       "       [2.4048344e-03, 2.7616075e-01, 7.2143430e-01]], dtype=float32)"
      ]
     },
     "execution_count": 23,
     "metadata": {},
     "output_type": "execute_result"
    }
   ],
   "source": [
    "model.predict(scaled_X_test) # it gives us probability of predict for each 3 output\n",
    "#the highest probability we assume as answer"
   ]
  },
  {
   "cell_type": "code",
   "execution_count": 24,
   "metadata": {},
   "outputs": [
    {
     "name": "stdout",
     "output_type": "stream",
     "text": [
      "(50, 3)\n",
      "(50, 4)\n"
     ]
    }
   ],
   "source": [
    "print(y_test.shape)\n",
    "print(scaled_X_test.shape)"
   ]
  },
  {
   "cell_type": "code",
   "execution_count": 25,
   "metadata": {},
   "outputs": [
    {
     "data": {
      "text/plain": [
       "array([1, 0, 2, 1, 2, 0, 1, 2, 2, 1, 2, 0, 0, 0, 0, 1, 2, 1, 1, 2, 0, 2,\n",
       "       0, 2, 2, 2, 2, 2, 0, 0, 0, 0, 2, 0, 0, 2, 1, 0, 0, 0, 2, 1, 2, 0,\n",
       "       0, 1, 2, 2, 2, 2], dtype=int64)"
      ]
     },
     "execution_count": 25,
     "metadata": {},
     "output_type": "execute_result"
    }
   ],
   "source": [
    "# to predict classes\n",
    "model.predict_classes(scaled_X_test)"
   ]
  },
  {
   "cell_type": "code",
   "execution_count": 26,
   "metadata": {},
   "outputs": [
    {
     "name": "stdout",
     "output_type": "stream",
     "text": [
      "[[0. 1. 0.]\n",
      " [1. 0. 0.]\n",
      " [0. 0. 1.]\n",
      " [0. 1. 0.]\n",
      " [0. 1. 0.]]\n"
     ]
    }
   ],
   "source": [
    "print(y_test[0:5,:]) "
   ]
  },
  {
   "cell_type": "code",
   "execution_count": 27,
   "metadata": {},
   "outputs": [
    {
     "data": {
      "text/plain": [
       "array([1, 0, 2, 1, 1, 0, 1, 2, 1, 1, 2, 0, 0, 0, 0, 1, 2, 1, 1, 2, 0, 2,\n",
       "       0, 2, 2, 2, 2, 2, 0, 0, 0, 0, 1, 0, 0, 2, 1, 0, 0, 0, 2, 1, 1, 0,\n",
       "       0, 1, 2, 2, 1, 2], dtype=int64)"
      ]
     },
     "execution_count": 27,
     "metadata": {},
     "output_type": "execute_result"
    }
   ],
   "source": [
    "# here y_test and prediction value is in different formet so we need to make them in same formate\n",
    "predictions=model.predict_classes(scaled_X_test)\n",
    "y_test.argmax(axis=1) #this different from y_test in case of format"
   ]
  },
  {
   "cell_type": "code",
   "execution_count": 28,
   "metadata": {},
   "outputs": [
    {
     "data": {
      "text/plain": [
       "array([[19,  0,  0],\n",
       "       [ 0, 10,  5],\n",
       "       [ 0,  0, 16]], dtype=int64)"
      ]
     },
     "execution_count": 28,
     "metadata": {},
     "output_type": "execute_result"
    }
   ],
   "source": [
    "# now comparing predictions with y_test.argmax(axis=1)\n",
    "from sklearn.metrics import confusion_matrix, classification_report, accuracy_score\n",
    "confusion_matrix(y_test.argmax(axis=1),predictions) # rows are actual and column are predicted value for each classes"
   ]
  },
  {
   "cell_type": "code",
   "execution_count": 29,
   "metadata": {
    "scrolled": true
   },
   "outputs": [
    {
     "name": "stdout",
     "output_type": "stream",
     "text": [
      "              precision    recall  f1-score   support\n",
      "\n",
      "           0       1.00      1.00      1.00        19\n",
      "           1       1.00      0.67      0.80        15\n",
      "           2       0.76      1.00      0.86        16\n",
      "\n",
      "    accuracy                           0.90        50\n",
      "   macro avg       0.92      0.89      0.89        50\n",
      "weighted avg       0.92      0.90      0.90        50\n",
      "\n"
     ]
    }
   ],
   "source": [
    "print(classification_report(y_test.argmax(axis=1),predictions))"
   ]
  },
  {
   "cell_type": "code",
   "execution_count": 30,
   "metadata": {},
   "outputs": [
    {
     "name": "stdout",
     "output_type": "stream",
     "text": [
      "0.9\n"
     ]
    }
   ],
   "source": [
    "print(accuracy_score(y_test.argmax(axis=1),predictions))"
   ]
  },
  {
   "cell_type": "code",
   "execution_count": 31,
   "metadata": {},
   "outputs": [],
   "source": [
    "# Now to save this this model\n",
    "#model.save('...filelocation/filename.h5')\n",
    "model.save('E:/study material/Deep learning/neural network/IrisDataNN.h5')"
   ]
  },
  {
   "cell_type": "code",
   "execution_count": 32,
   "metadata": {},
   "outputs": [],
   "source": [
    "# to open this save model\n",
    "from keras.models import load_model\n",
    "new_model=load_model('E:/study material/Deep learning/neural network/IrisDataNN.h5')"
   ]
  },
  {
   "cell_type": "code",
   "execution_count": 33,
   "metadata": {},
   "outputs": [
    {
     "data": {
      "text/plain": [
       "array([1, 0, 2, 1, 2, 0, 1, 2, 2, 1, 2, 0, 0, 0, 0, 1, 2, 1, 1, 2, 0, 2,\n",
       "       0, 2, 2, 2, 2, 2, 0, 0, 0, 0, 2, 0, 0, 2, 1, 0, 0, 0, 2, 1, 2, 0,\n",
       "       0, 1, 2, 2, 2, 2], dtype=int64)"
      ]
     },
     "execution_count": 33,
     "metadata": {},
     "output_type": "execute_result"
    }
   ],
   "source": [
    "new_model.predict_classes(scaled_X_test)"
   ]
  },
  {
   "cell_type": "code",
   "execution_count": null,
   "metadata": {},
   "outputs": [],
   "source": []
  }
 ],
 "metadata": {
  "kernelspec": {
   "display_name": "Python 3",
   "language": "python",
   "name": "python3"
  },
  "language_info": {
   "codemirror_mode": {
    "name": "ipython",
    "version": 3
   },
   "file_extension": ".py",
   "mimetype": "text/x-python",
   "name": "python",
   "nbconvert_exporter": "python",
   "pygments_lexer": "ipython3",
   "version": "3.7.3"
  }
 },
 "nbformat": 4,
 "nbformat_minor": 2
}
